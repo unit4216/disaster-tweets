{
  "nbformat": 4,
  "nbformat_minor": 0,
  "metadata": {
    "colab": {
      "provenance": [],
      "gpuType": "T4"
    },
    "kernelspec": {
      "name": "python3",
      "display_name": "Python 3"
    },
    "language_info": {
      "name": "python"
    },
    "accelerator": "GPU"
  },
  "cells": [
    {
      "cell_type": "markdown",
      "source": [
        "# The Problem\n",
        "\n",
        "We want to create a deep learning model which is capable of classifying Tweets as related to a disaster (1) or not related to a disaster (0)".
      ],
      "metadata": {
        "id": "2lsLkmBXEjo7"
      }
    },
    {
      "cell_type": "markdown",
      "source": [
        "# Import The Data\n",
        "\n",
        "Import our training data.  \n",
        "\n",
        "We can see that there are four fields of relevance - keyword, location, text and target.\n",
        "\n",
        "*Target* is the label and *text* is the body of the tweet, but we also have *keyword* and *location*, which we will explore shortly.\n",
        "\n"
      ],
      "metadata": {
        "id": "_1IXJ3BbANs9"
      }
    },
    {
      "cell_type": "code",
      "execution_count": 115,
      "metadata": {
        "colab": {
          "base_uri": "https://localhost:8080/",
          "height": 206
        },
        "id": "kDkwWuPfxj-B",
        "outputId": "783ad963-09e9-4a55-d9ca-75af88624485"
      },
      "outputs": [
        {
          "output_type": "execute_result",
          "data": {
            "text/plain": [
              "   id keyword location                                               text  \\\n",
              "0   1     NaN      NaN  Our Deeds are the Reason of this #earthquake M...   \n",
              "1   4     NaN      NaN             Forest fire near La Ronge Sask. Canada   \n",
              "2   5     NaN      NaN  All residents asked to 'shelter in place' are ...   \n",
              "3   6     NaN      NaN  13,000 people receive #wildfires evacuation or...   \n",
              "4   7     NaN      NaN  Just got sent this photo from Ruby #Alaska as ...   \n",
              "\n",
              "   target  \n",
              "0       1  \n",
              "1       1  \n",
              "2       1  \n",
              "3       1  \n",
              "4       1  "
            ],
            "text/html": [
              "\n",
              "  <div id=\"df-5ac29e27-55f6-4e8f-a423-f0252c75a8dc\" class=\"colab-df-container\">\n",
              "    <div>\n",
              "<style scoped>\n",
              "    .dataframe tbody tr th:only-of-type {\n",
              "        vertical-align: middle;\n",
              "    }\n",
              "\n",
              "    .dataframe tbody tr th {\n",
              "        vertical-align: top;\n",
              "    }\n",
              "\n",
              "    .dataframe thead th {\n",
              "        text-align: right;\n",
              "    }\n",
              "</style>\n",
              "<table border=\"1\" class=\"dataframe\">\n",
              "  <thead>\n",
              "    <tr style=\"text-align: right;\">\n",
              "      <th></th>\n",
              "      <th>id</th>\n",
              "      <th>keyword</th>\n",
              "      <th>location</th>\n",
              "      <th>text</th>\n",
              "      <th>target</th>\n",
              "    </tr>\n",
              "  </thead>\n",
              "  <tbody>\n",
              "    <tr>\n",
              "      <th>0</th>\n",
              "      <td>1</td>\n",
              "      <td>NaN</td>\n",
              "      <td>NaN</td>\n",
              "      <td>Our Deeds are the Reason of this #earthquake M...</td>\n",
              "      <td>1</td>\n",
              "    </tr>\n",
              "    <tr>\n",
              "      <th>1</th>\n",
              "      <td>4</td>\n",
              "      <td>NaN</td>\n",
              "      <td>NaN</td>\n",
              "      <td>Forest fire near La Ronge Sask. Canada</td>\n",
              "      <td>1</td>\n",
              "    </tr>\n",
              "    <tr>\n",
              "      <th>2</th>\n",
              "      <td>5</td>\n",
              "      <td>NaN</td>\n",
              "      <td>NaN</td>\n",
              "      <td>All residents asked to 'shelter in place' are ...</td>\n",
              "      <td>1</td>\n",
              "    </tr>\n",
              "    <tr>\n",
              "      <th>3</th>\n",
              "      <td>6</td>\n",
              "      <td>NaN</td>\n",
              "      <td>NaN</td>\n",
              "      <td>13,000 people receive #wildfires evacuation or...</td>\n",
              "      <td>1</td>\n",
              "    </tr>\n",
              "    <tr>\n",
              "      <th>4</th>\n",
              "      <td>7</td>\n",
              "      <td>NaN</td>\n",
              "      <td>NaN</td>\n",
              "      <td>Just got sent this photo from Ruby #Alaska as ...</td>\n",
              "      <td>1</td>\n",
              "    </tr>\n",
              "  </tbody>\n",
              "</table>\n",
              "</div>\n",
              "    <div class=\"colab-df-buttons\">\n",
              "\n",
              "  <div class=\"colab-df-container\">\n",
              "    <button class=\"colab-df-convert\" onclick=\"convertToInteractive('df-5ac29e27-55f6-4e8f-a423-f0252c75a8dc')\"\n",
              "            title=\"Convert this dataframe to an interactive table.\"\n",
              "            style=\"display:none;\">\n",
              "\n",
              "  <svg xmlns=\"http://www.w3.org/2000/svg\" height=\"24px\" viewBox=\"0 -960 960 960\">\n",
              "    <path d=\"M120-120v-720h720v720H120Zm60-500h600v-160H180v160Zm220 220h160v-160H400v160Zm0 220h160v-160H400v160ZM180-400h160v-160H180v160Zm440 0h160v-160H620v160ZM180-180h160v-160H180v160Zm440 0h160v-160H620v160Z\"/>\n",
              "  </svg>\n",
              "    </button>\n",
              "\n",
              "  <style>\n",
              "    .colab-df-container {\n",
              "      display:flex;\n",
              "      gap: 12px;\n",
              "    }\n",
              "\n",
              "    .colab-df-convert {\n",
              "      background-color: #E8F0FE;\n",
              "      border: none;\n",
              "      border-radius: 50%;\n",
              "      cursor: pointer;\n",
              "      display: none;\n",
              "      fill: #1967D2;\n",
              "      height: 32px;\n",
              "      padding: 0 0 0 0;\n",
              "      width: 32px;\n",
              "    }\n",
              "\n",
              "    .colab-df-convert:hover {\n",
              "      background-color: #E2EBFA;\n",
              "      box-shadow: 0px 1px 2px rgba(60, 64, 67, 0.3), 0px 1px 3px 1px rgba(60, 64, 67, 0.15);\n",
              "      fill: #174EA6;\n",
              "    }\n",
              "\n",
              "    .colab-df-buttons div {\n",
              "      margin-bottom: 4px;\n",
              "    }\n",
              "\n",
              "    [theme=dark] .colab-df-convert {\n",
              "      background-color: #3B4455;\n",
              "      fill: #D2E3FC;\n",
              "    }\n",
              "\n",
              "    [theme=dark] .colab-df-convert:hover {\n",
              "      background-color: #434B5C;\n",
              "      box-shadow: 0px 1px 3px 1px rgba(0, 0, 0, 0.15);\n",
              "      filter: drop-shadow(0px 1px 2px rgba(0, 0, 0, 0.3));\n",
              "      fill: #FFFFFF;\n",
              "    }\n",
              "  </style>\n",
              "\n",
              "    <script>\n",
              "      const buttonEl =\n",
              "        document.querySelector('#df-5ac29e27-55f6-4e8f-a423-f0252c75a8dc button.colab-df-convert');\n",
              "      buttonEl.style.display =\n",
              "        google.colab.kernel.accessAllowed ? 'block' : 'none';\n",
              "\n",
              "      async function convertToInteractive(key) {\n",
              "        const element = document.querySelector('#df-5ac29e27-55f6-4e8f-a423-f0252c75a8dc');\n",
              "        const dataTable =\n",
              "          await google.colab.kernel.invokeFunction('convertToInteractive',\n",
              "                                                    [key], {});\n",
              "        if (!dataTable) return;\n",
              "\n",
              "        const docLinkHtml = 'Like what you see? Visit the ' +\n",
              "          '<a target=\"_blank\" href=https://colab.research.google.com/notebooks/data_table.ipynb>data table notebook</a>'\n",
              "          + ' to learn more about interactive tables.';\n",
              "        element.innerHTML = '';\n",
              "        dataTable['output_type'] = 'display_data';\n",
              "        await google.colab.output.renderOutput(dataTable, element);\n",
              "        const docLink = document.createElement('div');\n",
              "        docLink.innerHTML = docLinkHtml;\n",
              "        element.appendChild(docLink);\n",
              "      }\n",
              "    </script>\n",
              "  </div>\n",
              "\n",
              "\n",
              "<div id=\"df-432e83b7-5b31-4e66-b5cc-7b0286e1abe9\">\n",
              "  <button class=\"colab-df-quickchart\" onclick=\"quickchart('df-432e83b7-5b31-4e66-b5cc-7b0286e1abe9')\"\n",
              "            title=\"Suggest charts\"\n",
              "            style=\"display:none;\">\n",
              "\n",
              "<svg xmlns=\"http://www.w3.org/2000/svg\" height=\"24px\"viewBox=\"0 0 24 24\"\n",
              "     width=\"24px\">\n",
              "    <g>\n",
              "        <path d=\"M19 3H5c-1.1 0-2 .9-2 2v14c0 1.1.9 2 2 2h14c1.1 0 2-.9 2-2V5c0-1.1-.9-2-2-2zM9 17H7v-7h2v7zm4 0h-2V7h2v10zm4 0h-2v-4h2v4z\"/>\n",
              "    </g>\n",
              "</svg>\n",
              "  </button>\n",
              "\n",
              "<style>\n",
              "  .colab-df-quickchart {\n",
              "      --bg-color: #E8F0FE;\n",
              "      --fill-color: #1967D2;\n",
              "      --hover-bg-color: #E2EBFA;\n",
              "      --hover-fill-color: #174EA6;\n",
              "      --disabled-fill-color: #AAA;\n",
              "      --disabled-bg-color: #DDD;\n",
              "  }\n",
              "\n",
              "  [theme=dark] .colab-df-quickchart {\n",
              "      --bg-color: #3B4455;\n",
              "      --fill-color: #D2E3FC;\n",
              "      --hover-bg-color: #434B5C;\n",
              "      --hover-fill-color: #FFFFFF;\n",
              "      --disabled-bg-color: #3B4455;\n",
              "      --disabled-fill-color: #666;\n",
              "  }\n",
              "\n",
              "  .colab-df-quickchart {\n",
              "    background-color: var(--bg-color);\n",
              "    border: none;\n",
              "    border-radius: 50%;\n",
              "    cursor: pointer;\n",
              "    display: none;\n",
              "    fill: var(--fill-color);\n",
              "    height: 32px;\n",
              "    padding: 0;\n",
              "    width: 32px;\n",
              "  }\n",
              "\n",
              "  .colab-df-quickchart:hover {\n",
              "    background-color: var(--hover-bg-color);\n",
              "    box-shadow: 0 1px 2px rgba(60, 64, 67, 0.3), 0 1px 3px 1px rgba(60, 64, 67, 0.15);\n",
              "    fill: var(--button-hover-fill-color);\n",
              "  }\n",
              "\n",
              "  .colab-df-quickchart-complete:disabled,\n",
              "  .colab-df-quickchart-complete:disabled:hover {\n",
              "    background-color: var(--disabled-bg-color);\n",
              "    fill: var(--disabled-fill-color);\n",
              "    box-shadow: none;\n",
              "  }\n",
              "\n",
              "  .colab-df-spinner {\n",
              "    border: 2px solid var(--fill-color);\n",
              "    border-color: transparent;\n",
              "    border-bottom-color: var(--fill-color);\n",
              "    animation:\n",
              "      spin 1s steps(1) infinite;\n",
              "  }\n",
              "\n",
              "  @keyframes spin {\n",
              "    0% {\n",
              "      border-color: transparent;\n",
              "      border-bottom-color: var(--fill-color);\n",
              "      border-left-color: var(--fill-color);\n",
              "    }\n",
              "    20% {\n",
              "      border-color: transparent;\n",
              "      border-left-color: var(--fill-color);\n",
              "      border-top-color: var(--fill-color);\n",
              "    }\n",
              "    30% {\n",
              "      border-color: transparent;\n",
              "      border-left-color: var(--fill-color);\n",
              "      border-top-color: var(--fill-color);\n",
              "      border-right-color: var(--fill-color);\n",
              "    }\n",
              "    40% {\n",
              "      border-color: transparent;\n",
              "      border-right-color: var(--fill-color);\n",
              "      border-top-color: var(--fill-color);\n",
              "    }\n",
              "    60% {\n",
              "      border-color: transparent;\n",
              "      border-right-color: var(--fill-color);\n",
              "    }\n",
              "    80% {\n",
              "      border-color: transparent;\n",
              "      border-right-color: var(--fill-color);\n",
              "      border-bottom-color: var(--fill-color);\n",
              "    }\n",
              "    90% {\n",
              "      border-color: transparent;\n",
              "      border-bottom-color: var(--fill-color);\n",
              "    }\n",
              "  }\n",
              "</style>\n",
              "\n",
              "  <script>\n",
              "    async function quickchart(key) {\n",
              "      const quickchartButtonEl =\n",
              "        document.querySelector('#' + key + ' button');\n",
              "      quickchartButtonEl.disabled = true;  // To prevent multiple clicks.\n",
              "      quickchartButtonEl.classList.add('colab-df-spinner');\n",
              "      try {\n",
              "        const charts = await google.colab.kernel.invokeFunction(\n",
              "            'suggestCharts', [key], {});\n",
              "      } catch (error) {\n",
              "        console.error('Error during call to suggestCharts:', error);\n",
              "      }\n",
              "      quickchartButtonEl.classList.remove('colab-df-spinner');\n",
              "      quickchartButtonEl.classList.add('colab-df-quickchart-complete');\n",
              "    }\n",
              "    (() => {\n",
              "      let quickchartButtonEl =\n",
              "        document.querySelector('#df-432e83b7-5b31-4e66-b5cc-7b0286e1abe9 button');\n",
              "      quickchartButtonEl.style.display =\n",
              "        google.colab.kernel.accessAllowed ? 'block' : 'none';\n",
              "    })();\n",
              "  </script>\n",
              "</div>\n",
              "\n",
              "    </div>\n",
              "  </div>\n"
            ],
            "application/vnd.google.colaboratory.intrinsic+json": {
              "type": "dataframe",
              "variable_name": "df",
              "summary": "{\n  \"name\": \"df\",\n  \"rows\": 7613,\n  \"fields\": [\n    {\n      \"column\": \"id\",\n      \"properties\": {\n        \"dtype\": \"number\",\n        \"std\": 3137,\n        \"min\": 1,\n        \"max\": 10873,\n        \"num_unique_values\": 7613,\n        \"samples\": [\n          3796,\n          3185,\n          7769\n        ],\n        \"semantic_type\": \"\",\n        \"description\": \"\"\n      }\n    },\n    {\n      \"column\": \"keyword\",\n      \"properties\": {\n        \"dtype\": \"category\",\n        \"num_unique_values\": 221,\n        \"samples\": [\n          \"injury\",\n          \"nuclear%20reactor\",\n          \"engulfed\"\n        ],\n        \"semantic_type\": \"\",\n        \"description\": \"\"\n      }\n    },\n    {\n      \"column\": \"location\",\n      \"properties\": {\n        \"dtype\": \"category\",\n        \"num_unique_values\": 3341,\n        \"samples\": [\n          \"Oklahoma\",\n          \"Starling City\",\n          \"Trinidad and Tobago\"\n        ],\n        \"semantic_type\": \"\",\n        \"description\": \"\"\n      }\n    },\n    {\n      \"column\": \"text\",\n      \"properties\": {\n        \"dtype\": \"string\",\n        \"num_unique_values\": 7503,\n        \"samples\": [\n          \"Three Homes Demolished in Unrecognized Arab Village - International Middle East Media Center http://t.co/ik8m4Yi9T4\",\n          \"Reid Lake fire prompts campground evacuation order http://t.co/jBODKM6rBU\",\n          \"FAAN orders evacuation of abandoned aircraft at MMA http://t.co/dEvYbnVXGQ via @todayng\"\n        ],\n        \"semantic_type\": \"\",\n        \"description\": \"\"\n      }\n    },\n    {\n      \"column\": \"target\",\n      \"properties\": {\n        \"dtype\": \"number\",\n        \"std\": 0,\n        \"min\": 0,\n        \"max\": 1,\n        \"num_unique_values\": 2,\n        \"samples\": [\n          0,\n          1\n        ],\n        \"semantic_type\": \"\",\n        \"description\": \"\"\n      }\n    }\n  ]\n}"
            }
          },
          "metadata": {},
          "execution_count": 115
        }
      ],
      "source": [
        "import pandas as pd\n",
        "\n",
        "file_path = \"/content/drive/My Drive/disaster-tweets/train.csv\"\n",
        "df = pd.read_csv(file_path)\n",
        "\n",
        "df.head()"
      ]
    },
    {
      "cell_type": "markdown",
      "source": [
        "# Data Size\n",
        "\n",
        "We have about ~7600 tweets in our training dataset.  This should be enough to train our model."
      ],
      "metadata": {
        "id": "R6sjlCqWEch2"
      }
    },
    {
      "cell_type": "code",
      "source": [
        "df.shape"
      ],
      "metadata": {
        "colab": {
          "base_uri": "https://localhost:8080/"
        },
        "id": "g9G-PVTqEajl",
        "outputId": "d24863f0-d06c-42ef-80f6-5fcc5f44f2f6"
      },
      "execution_count": 116,
      "outputs": [
        {
          "output_type": "execute_result",
          "data": {
            "text/plain": [
              "(7613, 5)"
            ]
          },
          "metadata": {},
          "execution_count": 116
        }
      ]
    },
    {
      "cell_type": "markdown",
      "source": [
        "# Inspecting our Tweets\n",
        "\n",
        "Taking a look at some tweets, we can see examples of tweets that are clearly about a disaster, and some examples which are clearly NOT about a disaster."
      ],
      "metadata": {
        "id": "Rr_EdQjNFDPk"
      }
    },
    {
      "cell_type": "code",
      "source": [
        "print(df['text'][9])\n",
        "print('\\n')\n",
        "print(df['text'][66])"
      ],
      "metadata": {
        "colab": {
          "base_uri": "https://localhost:8080/"
        },
        "id": "FbDXB6ndE-Ij",
        "outputId": "cb5f3cd1-c7d8-475a-9ef0-7158b2879df9"
      },
      "execution_count": 117,
      "outputs": [
        {
          "output_type": "stream",
          "name": "stdout",
          "text": [
            "I'm afraid that the tornado is coming to our area...\n",
            "\n",
            "\n",
            "@ablaze what time does your talk go until? I don't know if I can make it due to work.\n"
          ]
        }
      ]
    },
    {
      "cell_type": "markdown",
      "source": [
        "# EDA - Data Balance\n",
        "\n",
        "Next, we check the class balance of these tweets.  How many are in each class?\n",
        "\n",
        "Below, we can see that there is a slight imbalance, with about ~34% more non-disaster related tweets than disaster-related tweets."
      ],
      "metadata": {
        "id": "OYR6LLZfESbE"
      }
    },
    {
      "cell_type": "code",
      "source": [
        "df['target'].value_counts()"
      ],
      "metadata": {
        "colab": {
          "base_uri": "https://localhost:8080/",
          "height": 178
        },
        "id": "I8HJ0fsJDmLc",
        "outputId": "839bddb9-9d98-406d-82f6-71b439b492d7"
      },
      "execution_count": 118,
      "outputs": [
        {
          "output_type": "execute_result",
          "data": {
            "text/plain": [
              "target\n",
              "0    4342\n",
              "1    3271\n",
              "Name: count, dtype: int64"
            ],
            "text/html": [
              "<div>\n",
              "<style scoped>\n",
              "    .dataframe tbody tr th:only-of-type {\n",
              "        vertical-align: middle;\n",
              "    }\n",
              "\n",
              "    .dataframe tbody tr th {\n",
              "        vertical-align: top;\n",
              "    }\n",
              "\n",
              "    .dataframe thead th {\n",
              "        text-align: right;\n",
              "    }\n",
              "</style>\n",
              "<table border=\"1\" class=\"dataframe\">\n",
              "  <thead>\n",
              "    <tr style=\"text-align: right;\">\n",
              "      <th></th>\n",
              "      <th>count</th>\n",
              "    </tr>\n",
              "    <tr>\n",
              "      <th>target</th>\n",
              "      <th></th>\n",
              "    </tr>\n",
              "  </thead>\n",
              "  <tbody>\n",
              "    <tr>\n",
              "      <th>0</th>\n",
              "      <td>4342</td>\n",
              "    </tr>\n",
              "    <tr>\n",
              "      <th>1</th>\n",
              "      <td>3271</td>\n",
              "    </tr>\n",
              "  </tbody>\n",
              "</table>\n",
              "</div><br><label><b>dtype:</b> int64</label>"
            ]
          },
          "metadata": {},
          "execution_count": 118
        }
      ]
    },
    {
      "cell_type": "markdown",
      "source": [
        "# EDA - Data Balance visualization\n",
        "\n",
        "So we definitely have an imbalance between classes.  \n",
        "\n",
        "That being said, our dataset is limited.  To rectify this imbalance, we would have one of two options: to undersample the majority or oversample the minority.  \n",
        "\n",
        "If we undersample the majority, we are losing data (of which we don't have much in the first place).  Oversampling the minority would require advanced techniques as the data is basically text.  One option would be to duplicate tweets but then we would risk overfitting the data.\n",
        "\n",
        "In my opinion, it is unnecessary to rectify this imbalance.  Given that we are using a deep learning model, these models are often less sensitive to mild class imbalance (compared to less complex models) as they are more capable of learning patterns."
      ],
      "metadata": {
        "id": "8nUMCpzPGSq_"
      }
    },
    {
      "cell_type": "code",
      "source": [
        "import matplotlib.pyplot as plt\n",
        "\n",
        "plt.figure(figsize=(6,4))\n",
        "plt.hist(df['target'], bins=2, edgecolor='black', alpha=0.7)\n",
        "plt.xticks([0, 1])\n",
        "plt.xlabel(\"Target Labels\")\n",
        "plt.ylabel(\"Count\")\n",
        "plt.title(\"Distribution of Target Labels\")\n",
        "plt.show()\n"
      ],
      "metadata": {
        "colab": {
          "base_uri": "https://localhost:8080/",
          "height": 410
        },
        "id": "59fwULGM4tC5",
        "outputId": "9daa86c0-57f7-4d02-bff4-c55b5aed406c"
      },
      "execution_count": 119,
      "outputs": [
        {
          "output_type": "display_data",
          "data": {
            "text/plain": [
              "<Figure size 600x400 with 1 Axes>"
            ],
            "image/png": "iVBORw0KGgoAAAANSUhEUgAAAiUAAAGJCAYAAABVW0PjAAAAOnRFWHRTb2Z0d2FyZQBNYXRwbG90bGliIHZlcnNpb24zLjEwLjAsIGh0dHBzOi8vbWF0cGxvdGxpYi5vcmcvlHJYcgAAAAlwSFlzAAAPYQAAD2EBqD+naQAANNxJREFUeJzt3XlclPX+///nCDIgOIALIIqAYgbmkjttbigZWqZWdkzN45LrCe1Y2THXyhbFlfS0idnppPkpsyw3XFNMwyi1ND3H7aSAaTJACgrX949+zM8RVCR0ruJxv93mdut6X695X69r0Hh6zfuasRiGYQgAAMDFKrm6AQAAAIlQAgAATIJQAgAATIFQAgAATIFQAgAATIFQAgAATIFQAgAATIFQAgAATIFQAgAATIFQAlyHyZMny2Kx3JRjtW/fXu3bt3dsb9q0SRaLRcuXL78px3/88ccVFhZ2U45VVjk5ORo8eLCCgoJksVgUHx/v6pb+NMLCwtStW7dyndNisWjy5MnlOif+XAglqLCSkpJksVgcD09PTwUHBys2NlZz585VdnZ2uRznxIkTmjx5stLS0splvvJk5t5K46WXXlJSUpKGDx+uJUuWqF+/fsVqioLktR6XBkCzeOmll7RixYpS1R45ckQWi0UzZsy4sU0BN5C7qxsAXG3q1KkKDw/XhQsXlJ6erk2bNik+Pl4JCQlauXKlmjRp4qidMGGCnn322eua/8SJE5oyZYrCwsLUrFmzUj9v7dq113Wcsrhab2+++aYKCwtveA+/x4YNG9S2bVtNmjTpijU9e/ZURESEYzsnJ0fDhw/Xgw8+qJ49ezrGAwMDb2ivZfHSSy+pd+/e6tGjh6tbAW4KQgkqvK5du6ply5aO7fHjx2vDhg3q1q2b7r//fv3www/y8vKSJLm7u8vd/cb+tfn1119VpUoVeXh43NDjXEvlypVdevzSyMzMVFRU1FVrmjRp4hQsf/75Zw0fPlxNmjTRY4899rt7yM3Nlbe39++eBwBv3wAl6tixo55//nkdPXpU7733nmO8pDUl69at01133SU/Pz/5+PioYcOGeu655yT9tg6kVatWkqSBAwc63ipISkqS9Nu6kdtuu02pqam65557VKVKFcdzL19TUqSgoEDPPfecgoKC5O3trfvvv1/Hjx93qgkLC9Pjjz9e7LmXznmt3kpaU5Kbm6unnnpKISEhslqtatiwoWbMmKHLv2zcYrFo1KhRWrFihW677TZZrVY1atRIq1evLvkFv0xmZqYGDRqkwMBAeXp6qmnTplq8eLFjf9H6msOHD2vVqlWO3o8cOVKq+S939OhRjRgxQg0bNpSXl5eqV6+uhx56qNh8RW/5bd68WSNGjFBAQIDq1Knj2J+YmKh69erJy8tLrVu31tatW0v8Oebl5WnSpEmKiIiQ1WpVSEiInn76aeXl5TlqLBaLcnNztXjxYsf5lfQzvV6LFi1Sx44dFRAQIKvVqqioKC1YsOCK9WvXrlWzZs3k6empqKgoffTRR8Vqzp49q/j4eMefi4iICL3yyivXvNKWnZ2t+Ph4hYWFyWq1KiAgQJ07d9bu3bt/93nij4krJcAV9OvXT88995zWrl2rIUOGlFizb98+devWTU2aNNHUqVNltVp16NAhbdu2TZIUGRmpqVOnauLEiRo6dKjuvvtuSdIdd9zhmOP06dPq2rWr+vTpo8cee+yabyO8+OKLslgseuaZZ5SZmanZs2crJiZGaWlpjis6pVGa3i5lGIbuv/9+bdy4UYMGDVKzZs20Zs0ajRs3Tj/99JNmzZrlVP/ll1/qo48+0ogRI1S1alXNnTtXvXr10rFjx1S9evUr9nXu3Dm1b99ehw4d0qhRoxQeHq4PP/xQjz/+uM6ePasnn3xSkZGRWrJkicaMGaM6deroqaeekiTVrFmz1Od/qV27dmn79u3q06eP6tSpoyNHjmjBggVq3769vv/+e1WpUsWpfsSIEapZs6YmTpyo3NxcSdKCBQs0atQo3X333RozZoyOHDmiHj16yN/f3ym4FBYW6v7779eXX36poUOHKjIyUnv27NGsWbP0448/OtaQLFmyRIMHD1br1q01dOhQSVL9+vXLdH6XWrBggRo1aqT7779f7u7u+vTTTzVixAgVFhZq5MiRTrUHDx7UI488omHDhmnAgAFatGiRHnroIa1evVqdO3eW9NuVvXbt2umnn37SE088obp162r79u0aP368Tp48qdmzZ1+xl2HDhmn58uUaNWqUoqKidPr0aX355Zf64Ycf1Lx58999rvgDMoAKatGiRYYkY9euXVes8fX1NW6//XbH9qRJk4xL/9rMmjXLkGScOnXqinPs2rXLkGQsWrSo2L527doZkoyFCxeWuK9du3aO7Y0bNxqSjNq1axt2u90xvmzZMkOSMWfOHMdYaGioMWDAgGvOebXeBgwYYISGhjq2V6xYYUgyXnjhBae63r17GxaLxTh06JBjTJLh4eHhNPbtt98akox58+YVO9alZs+ebUgy3nvvPcdYfn6+ER0dbfj4+Dide2hoqBEXF3fV+S536tQpQ5IxadIkx9ivv/5arC4lJcWQZLz77ruOsaI/M3fddZdx8eJFx3heXp5RvXp1o1WrVsaFCxcc40lJSYYkp9d8yZIlRqVKlYytW7c6HW/hwoWGJGPbtm2OMW9v7xJ/jiU5fPiwIcl47bXXrlpX0rnGxsYa9erVcxoLDQ01JBn/93//5xjLysoyatWq5fR3Ytq0aYa3t7fx448/Oj3/2WefNdzc3Ixjx445xi5/3X19fY2RI0eW6vxQMfD2DXAVPj4+V70Lx8/PT5L0ySeflHlRqNVq1cCBA0td379/f1WtWtWx3bt3b9WqVUuff/55mY5fWp9//rnc3Nz0t7/9zWn8qaeekmEY+uKLL5zGY2JinP5l36RJE9lsNv33v/+95nGCgoL06KOPOsYqV66sv/3tb8rJydHmzZvL4WycXXqF6cKFCzp9+rQiIiLk5+dX4lsJQ4YMkZubm2P766+/1unTpzVkyBCnNUd9+/aVv7+/03M//PBDRUZG6tZbb9XPP//seHTs2FGStHHjxvI+PSeXnmtWVpZ+/vlntWvXTv/973+VlZXlVBscHKwHH3zQsW2z2dS/f3998803Sk9Pd5zP3XffLX9/f6fziYmJUUFBgbZs2XLFXvz8/PTVV1/pxIkT5XyW+KMilABXkZOT4xQALvfII4/ozjvv1ODBgxUYGKg+ffpo2bJl1xVQateufV2LWhs0aOC0bbFYFBERUeb1FKV19OhRBQcHF3s9IiMjHfsvVbdu3WJz+Pv765dffrnmcRo0aKBKlZz/93Sl45SHc+fOaeLEiY41ETVq1FDNmjV19uzZYr+oJSk8PLxYz5Kc7vKRflsYffm6nIMHD2rfvn2qWbOm0+OWW26R9Nt6mhtp27ZtiomJkbe3t/z8/FSzZk3HOqbLzzUiIqLYGqqiPov+vB08eFCrV68udj4xMTHXPJ9XX31Ve/fuVUhIiFq3bq3JkydfM7Tiz401JcAV/O9//1NWVlaxXzSX8vLy0pYtW7Rx40atWrVKq1ev1tKlS9WxY0etXbvW6V/TV5ujvF3pA94KCgpK1VN5uNJxjMsWxZrB6NGjtWjRIsXHxys6Olq+vr6yWCzq06dPiQHz9/zMCgsL1bhxYyUkJJS4PyQkpMxzX8t//vMfderUSbfeeqsSEhIUEhIiDw8Pff7555o1a1aZrvYVFhaqc+fOevrpp0vcXxRiSvLwww/r7rvv1scff6y1a9fqtdde0yuvvKKPPvpIXbt2ve5e8MdHKAGuYMmSJZKk2NjYq9ZVqlRJnTp1UqdOnZSQkKCXXnpJ//jHP7Rx40bFxMSU+yfAHjx40GnbMAwdOnTI6bZXf39/nT17tthzjx49qnr16jm2r6e30NBQrV+/XtnZ2U5XS/bv3+/YXx5CQ0P13XffqbCw0OlqSXkf51LLly/XgAEDNHPmTMfY+fPnS3wNS1LU06FDh9ShQwfH+MWLF3XkyBGnn039+vX17bffqlOnTtd8/cv7z86nn36qvLw8rVy50ulK1pXeMjp06JAMw3Dq48cff5QkxxWg+vXrKycnx3Fl5HrVqlVLI0aM0IgRI5SZmanmzZvrxRdfJJRUULx9A5Rgw4YNmjZtmsLDw9W3b98r1p05c6bYWNGHkBXd3ln0GRal/QV3Le+++67TOpfly5fr5MmTTv8Tr1+/vnbs2KH8/HzH2GeffVbs1uHr6e2+++5TQUGB5s+f7zQ+a9YsWSyWcvslct999yk9PV1Lly51jF28eFHz5s2Tj4+P2rVrVy7HuZSbm1uxKzjz5s1TQUFBqZ7fsmVLVa9eXW+++aYuXrzoGP/Xv/5V7O2qhx9+WD/99JPefPPNYvOcO3fOcTeP9NvPp7z+3Ej//9WrS881KytLixYtKrH+xIkT+vjjjx3bdrtd7777rpo1a6agoCBJv51PSkqK1qxZU+z5Z8+edXo9LlVQUFDs7aKAgAAFBwc73RqNioUrJajwvvjiC+3fv18XL15URkaGNmzYoHXr1ik0NFQrV66Up6fnFZ87depUbdmyRXFxcQoNDVVmZqZef/111alTR3fddZek3wKCn5+fFi5cqKpVq8rb21tt2rQpti6htKpVq6a77rpLAwcOVEZGhmbPnq2IiAin25YHDx6s5cuX695779XDDz+s//znP3rvvfeK3VJ6Pb11795dHTp00D/+8Q8dOXJETZs21dq1a/XJJ58oPj6+XG5XlaShQ4fqn//8px5//HGlpqYqLCxMy5cv17Zt2zR79uyrrvEpq27dumnJkiXy9fVVVFSUUlJStH79+qveunwpDw8PTZ48WaNHj1bHjh318MMP68iRI0pKSlL9+vWdrjT069dPy5Yt07Bhw7Rx40bdeeedKigo0P79+7Vs2TKtWbPG8WF+LVq00Pr165WQkKDg4GCFh4erTZs2V+0lOTlZ58+fLzbeo0cPdenSRR4eHurevbueeOIJ5eTk6M0331RAQIBOnjxZ7Dm33HKLBg0apF27dikwMFDvvPOOMjIynELMuHHjtHLlSnXr1k2PP/64WrRoodzcXO3Zs0fLly/XkSNHVKNGjWJzZ2dnq06dOurdu7eaNm0qHx8frV+/Xrt27XK6YoUKxpW3/gCuVHR7Z9HDw8PDCAoKMjp37mzMmTPH6dbTIpffEpycnGw88MADRnBwsOHh4WEEBwcbjz76aLHbIz/55BMjKirKcHd3d7oFt127dkajRo1K7O9KtwT/+9//NsaPH28EBAQYXl5eRlxcnHH06NFiz585c6ZRu3Ztw2q1Gnfeeafx9ddfF5vzar1dfkuwYRhGdna2MWbMGCM4ONioXLmy0aBBA+O1114zCgsLneoklXir55VuVb5cRkaGMXDgQKNGjRqGh4eH0bhx4xJvWy6vW4J/+eUXx/F8fHyM2NhYY//+/cX6vdZt5HPnzjVCQ0MNq9VqtG7d2ti2bZvRokUL495773Wqy8/PN1555RWjUaNGhtVqNfz9/Y0WLVoYU6ZMMbKyshx1+/fvN+655x7Dy8vLkHTV167oluArPZYsWWIYhmGsXLnSaNKkieHp6WmEhYUZr7zyivHOO+8YkozDhw875it6bdesWWM0adLEsFqtxq233mp8+OGHxY6dnZ1tjB8/3oiIiDA8PDyMGjVqGHfccYcxY8YMIz8/31F36euel5dnjBs3zmjatKlRtWpVw9vb22jatKnx+uuvX/Ec8ednMQwTrjoDgD+BwsJC1axZUz179izx7RoAzlhTAgDl4Pz588XWpbz77rs6c+aMKb+BGDAjrpQAQDnYtGmTxowZo4ceekjVq1fX7t279fbbbysyMlKpqaku/4JF4I+Aha4AUA7CwsIUEhKiuXPn6syZM6pWrZr69++vl19+mUAClBJXSgAAgCmwpgQAAJgCoQQAAJgCa0pKobCwUCdOnFDVqlXL/WOfAQD4MzMMQ9nZ2QoODi72RZuXI5SUwokTJ27ol2QBAPBnd/z4cdWpU+eqNYSSUij6WOvjx4/LZrO5uBsAAP447Ha7QkJCSvUVEYSSUih6y8ZmsxFKAAAog9Isf2ChKwAAMAVCCQAAMAVCCQAAMAVCCQAAMAVCCQAAMAVCCQAAMAVCCQAAMAVCCQAAMAVCCQAAMAVCCQAAMAU+Zt7FTp06Jbvd7uo2gD88m82mmjVruroNAL8DocSFTp06pccGDtaZ7F9d3Qrwh1etahW9t+gtggnwB0YocSG73a4z2b+qZnQveVcLdHU7wB9W7pkMnUr5P9ntdkIJ8AdGKDEB72qBsgXUcXUbwB/aKVc3AOB3Y6ErAAAwBUIJAAAwBUIJAAAwBUIJAAAwBUIJAAAwBUIJAAAwBUIJAAAwBUIJAAAwBUIJAAAwBUIJAAAwBUIJAAAwBUIJAAAwBUIJAAAwBUIJAAAwBUIJAAAwBUIJAAAwBUIJAAAwBdOEkpdfflkWi0Xx8fGOsfPnz2vkyJGqXr26fHx81KtXL2VkZDg979ixY4qLi1OVKlUUEBCgcePG6eLFi041mzZtUvPmzWW1WhUREaGkpKSbcEYAAOB6mCKU7Nq1S//85z/VpEkTp/ExY8bo008/1YcffqjNmzfrxIkT6tmzp2N/QUGB4uLilJ+fr+3bt2vx4sVKSkrSxIkTHTWHDx9WXFycOnTooLS0NMXHx2vw4MFas2bNTTs/AABwbS4PJTk5Oerbt6/efPNN+fv7O8azsrL09ttvKyEhQR07dlSLFi20aNEibd++XTt27JAkrV27Vt9//73ee+89NWvWTF27dtW0adOUmJio/Px8SdLChQsVHh6umTNnKjIyUqNGjVLv3r01a9asK/aUl5cnu93u9AAAADeWy0PJyJEjFRcXp5iYGKfx1NRUXbhwwWn81ltvVd26dZWSkiJJSklJUePGjRUYGOioiY2Nld1u1759+xw1l88dGxvrmKMk06dPl6+vr+MREhLyu88TAABcnUtDyQcffKDdu3dr+vTpxfalp6fLw8NDfn5+TuOBgYFKT0931FwaSIr2F+27Wo3dbte5c+dK7Gv8+PHKyspyPI4fP16m8wMAAKXn7qoDHz9+XE8++aTWrVsnT09PV7VRIqvVKqvV6uo2AACoUFx2pSQ1NVWZmZlq3ry53N3d5e7urs2bN2vu3Llyd3dXYGCg8vPzdfbsWafnZWRkKCgoSJIUFBRU7G6cou1r1dhsNnl5ed2gswMAANfLZaGkU6dO2rNnj9LS0hyPli1bqm/fvo7/rly5spKTkx3POXDggI4dO6bo6GhJUnR0tPbs2aPMzExHzbp162Sz2RQVFeWouXSOopqiOQAAgDm47O2bqlWr6rbbbnMa8/b2VvXq1R3jgwYN0tixY1WtWjXZbDaNHj1a0dHRatu2rSSpS5cuioqKUr9+/fTqq68qPT1dEyZM0MiRIx1vvwwbNkzz58/X008/rb/+9a/asGGDli1bplWrVt3cEwYAAFflslBSGrNmzVKlSpXUq1cv5eXlKTY2Vq+//rpjv5ubmz777DMNHz5c0dHR8vb21oABAzR16lRHTXh4uFatWqUxY8Zozpw5qlOnjt566y3Fxsa64pQAAMAVmCqUbNq0yWnb09NTiYmJSkxMvOJzQkND9fnnn1913vbt2+ubb74pjxYBAMAN4vLPKQEAAJAIJQAAwCQIJQAAwBQIJQAAwBQIJQAAwBQIJQAAwBQIJQAAwBQIJQAAwBQIJQAAwBQIJQAAwBQIJQAAwBQIJQAAwBQIJQAAwBQIJQAAwBQIJQAAwBQIJQAAwBQIJQAAwBQIJQAAwBQIJQAAwBQIJQAAwBQIJQAAwBQIJQAAwBQIJQAAwBQIJQAAwBQIJQAAwBQIJQAAwBQIJQAAwBQIJQAAwBQIJQAAwBQIJQAAwBQIJQAAwBQIJQAAwBQIJQAAwBQIJQAAwBQIJQAAwBQIJQAAwBQIJQAAwBQIJQAAwBQIJQAAwBQIJQAAwBQIJQAAwBTcXd0AAJSHC/n5Onr0qKvbAP7wbDabatas6ZJjE0oA/OHl5WTpyOH/Kv65ybJara5uB/hDq1a1it5b9JZLggmhBMAf3oW8cyq0uKtG256qHhzq6naAP6zcMxk6lfJ/stvthBIA+D2q+NeULaCOq9sA/tBOufDYLHQFAACmQCgBAACmQCgBAACmQCgBAACmQCgBAACmQCgBAACmQCgBAACmQCgBAACmQCgBAACmQCgBAACmQCgBAACm4NJQsmDBAjVp0kQ2m002m03R0dH64osvHPvPnz+vkSNHqnr16vLx8VGvXr2UkZHhNMexY8cUFxenKlWqKCAgQOPGjdPFixedajZt2qTmzZvLarUqIiJCSUlJN+P0AADAdXBpKKlTp45efvllpaam6uuvv1bHjh31wAMPaN++fZKkMWPG6NNPP9WHH36ozZs368SJE+rZs6fj+QUFBYqLi1N+fr62b9+uxYsXKykpSRMnTnTUHD58WHFxcerQoYPS0tIUHx+vwYMHa82aNTf9fAEAwJW59FuCu3fv7rT94osvasGCBdqxY4fq1Kmjt99+W++//746duwoSVq0aJEiIyO1Y8cOtW3bVmvXrtX333+v9evXKzAwUM2aNdO0adP0zDPPaPLkyfLw8NDChQsVHh6umTNnSpIiIyP15ZdfatasWYqNjb3p5wwAAEpmmjUlBQUF+uCDD5Sbm6vo6GilpqbqwoULiomJcdTceuutqlu3rlJSUiRJKSkpaty4sQIDAx01sbGxstvtjqstKSkpTnMU1RTNUZK8vDzZ7XanBwAAuLFcHkr27NkjHx8fWa1WDRs2TB9//LGioqKUnp4uDw8P+fn5OdUHBgYqPT1dkpSenu4USIr2F+27Wo3dbte5c+dK7Gn69Ony9fV1PEJCQsrjVAEAwFW4PJQ0bNhQaWlp+uqrrzR8+HANGDBA33//vUt7Gj9+vLKyshyP48ePu7QfAAAqApeuKZEkDw8PRURESJJatGihXbt2ac6cOXrkkUeUn5+vs2fPOl0tycjIUFBQkCQpKChIO3fudJqv6O6cS2suv2MnIyNDNptNXl5eJfZktVpltVrL5fwAAEDpuPxKyeUKCwuVl5enFi1aqHLlykpOTnbsO3DggI4dO6bo6GhJUnR0tPbs2aPMzExHzbp162Sz2RQVFeWouXSOopqiOQAAgDm49ErJ+PHj1bVrV9WtW1fZ2dl6//33tWnTJq1Zs0a+vr4aNGiQxo4dq2rVqslms2n06NGKjo5W27ZtJUldunRRVFSU+vXrp1dffVXp6emaMGGCRo4c6bjSMWzYMM2fP19PP/20/vrXv2rDhg1atmyZVq1a5cpTBwAAl3FpKMnMzFT//v118uRJ+fr6qkmTJlqzZo06d+4sSZo1a5YqVaqkXr16KS8vT7GxsXr99dcdz3dzc9Nnn32m4cOHKzo6Wt7e3howYICmTp3qqAkPD9eqVas0ZswYzZkzR3Xq1NFbb73F7cAAAJiMS0PJ22+/fdX9np6eSkxMVGJi4hVrQkND9fnnn191nvbt2+ubb74pU48AAODmMN2aEgAAUDERSgAAgCkQSgAAgCkQSgAAgCkQSgAAgCkQSgAAgCkQSgAAgCkQSgAAgCkQSgAAgCkQSgAAgCkQSgAAgCkQSgAAgCkQSgAAgCkQSgAAgCkQSgAAgCkQSgAAgCkQSgAAgCkQSgAAgCkQSgAAgCkQSgAAgCkQSgAAgCkQSgAAgCkQSgAAgCkQSgAAgCmUKZTUq1dPp0+fLjZ+9uxZ1atX73c3BQAAKp4yhZIjR46ooKCg2HheXp5++umn390UAACoeNyvp3jlypWO/16zZo18fX0d2wUFBUpOTlZYWFi5NQcAACqO6wolPXr0kCRZLBYNGDDAaV/lypUVFhammTNnlltzAACg4riuUFJYWChJCg8P165du1SjRo0b0hQAAKh4riuUFDl8+HB59wEAACq4MoUSSUpOTlZycrIyMzMdV1CKvPPOO7+7MQAAULGUKZRMmTJFU6dOVcuWLVWrVi1ZLJby7gsAAFQwZQolCxcuVFJSkvr161fe/QAAgAqqTJ9Tkp+frzvuuKO8ewEAABVYmULJ4MGD9f7775d3LwAAoAIr09s358+f1xtvvKH169erSZMmqly5stP+hISEcmkOAABUHGUKJd99952aNWsmSdq7d6/TPha9AgCAsihTKNm4cWN59wEAACq4Mq0pAQAAKG9lulLSoUOHq75Ns2HDhjI3BAAAKqYyhZKi9SRFLly4oLS0NO3du7fYF/UBAACURplCyaxZs0ocnzx5snJycn5XQwAAoGIq1zUljz32GN97AwAAyqRcQ0lKSoo8PT3Lc0oAAFBBlOntm549ezptG4ahkydP6uuvv9bzzz9fLo0BAICKpUyhxNfX12m7UqVKatiwoaZOnaouXbqUS2MAAKBiKVMoWbRoUXn3AQAAKrgyhZIiqamp+uGHHyRJjRo10u23314uTQEAgIqnTKEkMzNTffr00aZNm+Tn5ydJOnv2rDp06KAPPvhANWvWLM8eAQBABVCmu29Gjx6t7Oxs7du3T2fOnNGZM2e0d+9e2e12/e1vfyvvHgEAQAVQpislq1ev1vr16xUZGekYi4qKUmJiIgtdAQBAmZTpSklhYaEqV65cbLxy5coqLCz83U0BAICKp0yhpGPHjnryySd14sQJx9hPP/2kMWPGqFOnTuXWHAAAqDjKFErmz58vu92usLAw1a9fX/Xr11d4eLjsdrvmzZtX3j0CAIAKoExrSkJCQrR7926tX79e+/fvlyRFRkYqJiamXJsDAAAVx3VdKdmwYYOioqJkt9tlsVjUuXNnjR49WqNHj1arVq3UqFEjbd269Ub1CgAA/sSuK5TMnj1bQ4YMkc1mK7bP19dXTzzxhBISEsqtOQAAUHFcVyj59ttvde+9915xf5cuXZSamlrq+aZPn65WrVqpatWqCggIUI8ePXTgwAGnmvPnz2vkyJGqXr26fHx81KtXL2VkZDjVHDt2THFxcapSpYoCAgI0btw4Xbx40alm06ZNat68uaxWqyIiIpSUlFTqPgEAwI13XaEkIyOjxFuBi7i7u+vUqVOlnm/z5s0aOXKkduzYoXXr1unChQvq0qWLcnNzHTVjxozRp59+qg8//FCbN2/WiRMnnL6luKCgQHFxccrPz9f27du1ePFiJSUlaeLEiY6aw4cPKy4uTh06dFBaWpri4+M1ePBgrVmz5npOHwAA3EDXtdC1du3a2rt3ryIiIkrc/91336lWrVqlnm/16tVO20lJSQoICFBqaqruueceZWVl6e2339b777+vjh07SvrtywAjIyO1Y8cOtW3bVmvXrtX333+v9evXKzAwUM2aNdO0adP0zDPPaPLkyfLw8NDChQsVHh6umTNnSvptUe6XX36pWbNmKTY29npeAgAAcINc15WS++67T88//7zOnz9fbN+5c+c0adIkdevWrczNZGVlSZKqVasm6bcv/Ltw4YLTXT233nqr6tatq5SUFElSSkqKGjdurMDAQEdNbGys7Ha79u3b56i5/M6g2NhYxxyXy8vLk91ud3oAAIAb67qulEyYMEEfffSRbrnlFo0aNUoNGzaUJO3fv1+JiYkqKCjQP/7xjzI1UlhYqPj4eN1555267bbbJEnp6eny8PBwfOlfkcDAQKWnpztqLg0kRfuL9l2txm6369y5c/Ly8nLaN336dE2ZMqVM5wEAAMrmukJJYGCgtm/fruHDh2v8+PEyDEOSZLFYFBsbq8TExGK//Etr5MiR2rt3r7788ssyPb88jR8/XmPHjnVs2+12hYSEuLAjAAD+/K77w9NCQ0P1+eef65dfftGhQ4dkGIYaNGggf3//MjcxatQoffbZZ9qyZYvq1KnjGA8KClJ+fr7Onj3rdLUkIyNDQUFBjpqdO3c6zVd0d86lNZffsZORkSGbzVbsKokkWa1WWa3WMp8PAAC4fmX6mHlJ8vf3V6tWrdS6desyBxLDMDRq1Ch9/PHH2rBhg8LDw532t2jRQpUrV1ZycrJj7MCBAzp27Jiio6MlSdHR0dqzZ48yMzMdNevWrZPNZlNUVJSj5tI5imqK5gAAAK5Xpo+ZLy8jR47U+++/r08++URVq1Z1rAHx9fWVl5eXfH19NWjQII0dO1bVqlWTzWbT6NGjFR0drbZt20r67bNRoqKi1K9fP7366qtKT0/XhAkTNHLkSMfVjmHDhmn+/Pl6+umn9de//lUbNmzQsmXLtGrVKpedOwAAcFbmKyXlYcGCBcrKylL79u1Vq1Ytx2Pp0qWOmlmzZqlbt27q1auX7rnnHgUFBemjjz5y7Hdzc9Nnn30mNzc3RUdH67HHHlP//v01depUR014eLhWrVqldevWqWnTppo5c6beeustbgcGAMBEXHqlpGih7NV4enoqMTFRiYmJV6wpWudyNe3bt9c333xz3T0CAICbw6VXSgAAAIoQSgAAgCkQSgAAgCkQSgAAgCkQSgAAgCkQSgAAgCkQSgAAgCkQSgAAgCkQSgAAgCkQSgAAgCkQSgAAgCkQSgAAgCkQSgAAgCkQSgAAgCkQSgAAgCkQSgAAgCkQSgAAgCkQSgAAgCkQSgAAgCkQSgAAgCkQSgAAgCkQSgAAgCkQSgAAgCkQSgAAgCkQSgAAgCkQSgAAgCkQSgAAgCkQSgAAgCkQSgAAgCkQSgAAgCkQSgAAgCkQSgAAgCkQSgAAgCkQSgAAgCkQSgAAgCkQSgAAgCkQSgAAgCkQSgAAgCkQSgAAgCkQSgAAgCkQSgAAgCkQSgAAgCkQSgAAgCkQSgAAgCkQSgAAgCkQSgAAgCkQSgAAgCkQSgAAgCkQSgAAgCkQSgAAgCkQSgAAgCkQSgAAgCkQSgAAgCkQSgAAgCkQSgAAgCkQSgAAgCm4NJRs2bJF3bt3V3BwsCwWi1asWOG03zAMTZw4UbVq1ZKXl5diYmJ08OBBp5ozZ86ob9++stls8vPz06BBg5STk+NU89133+nuu++Wp6enQkJC9Oqrr97oUwMAANfJpaEkNzdXTZs2VWJiYon7X331Vc2dO1cLFy7UV199JW9vb8XGxur8+fOOmr59+2rfvn1at26dPvvsM23ZskVDhw517Lfb7erSpYtCQ0OVmpqq1157TZMnT9Ybb7xxw88PAACUnrsrD961a1d17dq1xH2GYWj27NmaMGGCHnjgAUnSu+++q8DAQK1YsUJ9+vTRDz/8oNWrV2vXrl1q2bKlJGnevHm67777NGPGDAUHB+tf//qX8vPz9c4778jDw0ONGjVSWlqaEhISnMILAABwLdOuKTl8+LDS09MVExPjGPP19VWbNm2UkpIiSUpJSZGfn58jkEhSTEyMKlWqpK+++spRc88998jDw8NRExsbqwMHDuiXX34p8dh5eXmy2+1ODwAAcGOZNpSkp6dLkgIDA53GAwMDHfvS09MVEBDgtN/d3V3VqlVzqilpjkuPcbnp06fL19fX8QgJCfn9JwQAAK7KtKHElcaPH6+srCzH4/jx465uCQCAPz3ThpKgoCBJUkZGhtN4RkaGY19QUJAyMzOd9l+8eFFnzpxxqilpjkuPcTmr1Sqbzeb0AAAAN5ZpQ0l4eLiCgoKUnJzsGLPb7frqq68UHR0tSYqOjtbZs2eVmprqqNmwYYMKCwvVpk0bR82WLVt04cIFR826devUsGFD+fv736SzAQAA1+LSUJKTk6O0tDSlpaVJ+m1xa1pamo4dOyaLxaL4+Hi98MILWrlypfbs2aP+/fsrODhYPXr0kCRFRkbq3nvv1ZAhQ7Rz505t27ZNo0aNUp8+fRQcHCxJ+stf/iIPDw8NGjRI+/bt09KlSzVnzhyNHTvWRWcNAABK4tJbgr/++mt16NDBsV0UFAYMGKCkpCQ9/fTTys3N1dChQ3X27FndddddWr16tTw9PR3P+de//qVRo0apU6dOqlSpknr16qW5c+c69vv6+mrt2rUaOXKkWrRooRo1amjixIncDgwAgMm4NJS0b99ehmFccb/FYtHUqVM1derUK9ZUq1ZN77///lWP06RJE23durXMfQIAgBvPtGtKAABAxUIoAQAApkAoAQAApkAoAQAApkAoAQAApkAoAQAApkAoAQAApkAoAQAApkAoAQAApkAoAQAApkAoAQAApkAoAQAApkAoAQAApkAoAQAApkAoAQAApkAoAQAApkAoAQAApkAoAQAApkAoAQAApkAoAQAApkAoAQAApkAoAQAApkAoAQAApkAoAQAApkAoAQAApkAoAQAApkAoAQAApkAoAQAApkAoAQAApkAoAQAApkAoAQAApkAoAQAApkAoAQAApkAoAQAApkAoAQAApkAoAQAApkAoAQAApkAoAQAApkAoAQAApkAoAQAApkAoAQAApkAoAQAApkAoAQAApkAoAQAApkAoAQAApkAoAQAApkAoAQAApkAoAQAApkAoAQAApkAoAQAApkAoAQAApkAoAQAApkAoAQAApkAoAQAApkAoAQAApkAoAQAApkAoAQAAplChQkliYqLCwsLk6empNm3aaOfOna5uCQAA/H8qTChZunSpxo4dq0mTJmn37t1q2rSpYmNjlZmZ6erWAACAKlAoSUhI0JAhQzRw4EBFRUVp4cKFqlKlit555x1XtwYAACS5u7qBmyE/P1+pqakaP368Y6xSpUqKiYlRSkpKsfq8vDzl5eU5trOysiRJdru9XPvKzs5WwcWLOnvyiC6c/7Vc5wYqEnvm/2QUFsqeflzuFld3A/xx5f6SqYKLF5WdnV1uv/OK5jEM45q1FSKU/PzzzyooKFBgYKDTeGBgoPbv31+sfvr06ZoyZUqx8ZCQkBvT4PZNN2ZeoILZunD8tYsAXNPtt99e7nNmZ2fL19f3qjUVIpRcr/Hjx2vs2LGO7cLCQp05c0bVq1eXxVJ+/wyz2+0KCQnR8ePHZbPZym1eAADK4kb8XjIMQ9nZ2QoODr5mbYUIJTVq1JCbm5syMjKcxjMyMhQUFFSs3mq1ymq1Oo35+fndsP5sNhuhBABgGuX9e+laV0iKVIiFrh4eHmrRooWSk5MdY4WFhUpOTlZ0dLQLOwMAAEUqxJUSSRo7dqwGDBigli1bqnXr1po9e7Zyc3M1cOBAV7cGAABUgULJI488olOnTmnixIlKT09Xs2bNtHr16mKLX28mq9WqSZMmFXurCAAAV3D17yWLUZp7dAAAAG6wCrGmBAAAmB+hBAAAmAKhBAAAmAKhBAAAmAKhxEUSExMVFhYmT09PtWnTRjt37nR1SwCACmrLli3q3r27goODZbFYtGLFCpf0QShxgaVLl2rs2LGaNGmSdu/eraZNmyo2NlaZmZmubg0AUAHl5uaqadOmSkxMdGkf3BLsAm3atFGrVq00f/58Sb99umxISIhGjx6tZ5991sXdAQAqMovFoo8//lg9evS46cfmSslNlp+fr9TUVMXExDjGKlWqpJiYGKWkpLiwMwAAXItQcpP9/PPPKigoKPZJsoGBgUpPT3dRVwAAuB6hBAAAmAKh5CarUaOG3NzclJGR4TSekZGhoKAgF3UFAIDrEUpuMg8PD7Vo0ULJycmOscLCQiUnJys6OtqFnQEA4FoV5luCzWTs2LEaMGCAWrZsqdatW2v27NnKzc3VwIEDXd0aAKACysnJ0aFDhxzbhw8fVlpamqpVq6a6devetD64JdhF5s+fr9dee03p6elq1qyZ5s6dqzZt2ri6LQBABbRp0yZ16NCh2PiAAQOUlJR00/oglAAAAFNgTQkAADAFQgkAADAFQgkAADAFQgkAADAFQgkAADAFQgkAADAFQgkAADAFQgkAADAFQgkAXKZ9+/aKj4//XXMkJSXJz8+vXPoBKgpCCQAnFovlqo/Jkye7tLcVK1aUWx0Ac+EL+QA4OXnypOO/ly5dqokTJ+rAgQOOMR8fn+uaLz8/Xx4eHuXWH4A/L66UAHASFBTkePj6+spisTi2c3Nz1bdvXwUGBsrHx0etWrXS+vXrnZ4fFhamadOmqX///rLZbBo6dKgk6c0331RISIiqVKmiBx98UAkJCcXe3vjkk0/UvHlzeXp6ql69epoyZYouXrzomFeSHnzwQVksFsf29Tp9+rQeffRR1a5dW1WqVFHjxo3173//u1jdxYsXNWrUKPn6+qpGjRp6/vnndelXheXl5envf/+7ateuLW9vb7Vp00abNm264nG//fZbdejQQVWrVpXNZlOLFi309ddfl+kcgD8rQgmAUsvJydF9992n5ORkffPNN7r33nvVvXt3HTt2zKluxowZatq0qb755hs9//zz2rZtm4YNG6Ynn3xSaWlp6ty5s1588UWn52zdulX9+/fXk08+qe+//17//Oc/lZSU5KjbtWuXJGnRokU6efKkY/t6nT9/Xi1atNCqVau0d+9eDR06VP369dPOnTud6hYvXix3d3ft3LlTc+bMUUJCgt566y3H/lGjRiklJUUffPCBvvvuOz300EO69957dfDgwRKP27dvX9WpU0e7du1Samqqnn32WVWuXLlM5wD8aRkAcAWLFi0yfH19r1rTqFEjY968eY7t0NBQo0ePHk41jzzyiBEXF+c01rdvX6e5O3XqZLz00ktONUuWLDFq1arl2JZkfPzxx9fsu7R1ReLi4oynnnrKsd2uXTsjMjLSKCwsdIw988wzRmRkpGEYhnH06FHDzc3N+Omnn5zm6dSpkzF+/HjDMIq/dlWrVjWSkpJK3RNQEXGlBECp5eTk6O9//7siIyPl5+cnHx8f/fDDD8WulLRs2dJp+8CBA2rdurXT2OXb3377raZOnSofHx/HY8iQITp58qR+/fXXcjuHgoICTZs2TY0bN1a1atXk4+OjNWvWFDuHtm3bymKxOLajo6N18OBBFRQUaM+ePSooKNAtt9zi1O/mzZv1n//8p8Tjjh07VoMHD1ZMTIxefvnlK9YBFRkLXQGU2t///netW7dOM2bMUEREhLy8vNS7d2/l5+c71Xl7e1/33Dk5OZoyZYp69uxZbJ+np2eZe77ca6+9pjlz5mj27Nlq3LixvL29FR8fX+wcrtWrm5ubUlNT5ebm5rTvSguBJ0+erL/85S9atWqVvvjiC02aNEkffPCBHnzwwd91PsCfCaEEQKlt27ZNjz/+uOMXaU5Ojo4cOXLN5zVs2LDYGpDLt5s3b64DBw4oIiLiivNUrlxZBQUF19/4JbZt26YHHnhAjz32mCSpsLBQP/74o6KiopzqvvrqK6ftHTt2qEGDBnJzc9Ptt9+ugoICZWZm6u677y71sW+55RbdcsstGjNmjB599FEtWrSIUAJcglACoNQaNGigjz76SN27d5fFYtHzzz+vwsLCaz5v9OjRuueee5SQkKDu3btrw4YN+uKLL5zeHpk4caK6deumunXrqnfv3qpUqZK+/fZb7d27Vy+88IKk3+7ASU5O1p133imr1Sp/f/8rHvPw4cNKS0sr1n+DBg20fPlybd++Xf7+/kpISFBGRkaxUHLs2DGNHTtWTzzxhHbv3q158+Zp5syZkn4LF3379lX//v01c+ZM3X777Tp16pSSk5PVpEkTxcXFOc117tw5jRs3Tr1791Z4eLj+97//adeuXerVq9c1XzugQnH1ohYA5nX5Ys3Dhw8bHTp0MLy8vIyQkBBj/vz5Rrt27Ywnn3zSURMaGmrMmjWr2FxvvPGGUbt2bcPLy8vo0aOH8cILLxhBQUFONatXrzbuuOMOw8vLy7DZbEbr1q2NN954w7F/5cqVRkREhOHu7m6EhoZesW9JJT62bt1qnD592njggQcMHx8fIyAgwJgwYYLRv39/44EHHnA8v127dsaIESOMYcOGGTabzfD39zeee+45p4Wv+fn5xsSJE42wsDCjcuXKRq1atYwHH3zQ+O6774q9dnl5eUafPn2MkJAQw8PDwwgODjZGjRplnDt37to/BKACsRjGJTfeA8BNMmTIEO3fv19bt251dSsATIK3bwDcFDNmzFDnzp3l7e2tL774QosXL9brr7/u6rYAmAhXSgDcFA8//LA2bdqk7Oxs1atXT6NHj9awYcNc3RYAEyGUAAAAU+DD0wAAgCkQSgAAgCkQSgAAgCkQSgAAgCkQSgAAgCkQSgAAgCkQSgAAgCkQSgAAgCn8PxD23zEFT6t2AAAAAElFTkSuQmCC\n"
          },
          "metadata": {}
        }
      ]
    },
    {
      "cell_type": "markdown",
      "source": [
        "# About the Data - Locations\n",
        "\n",
        "The location data is hit or miss in this dataset.  While many locations are the actual location of the tweet writer, many are arbitrary values or irrelevant.\n",
        "\n",
        "For the purposes of this model, I will ignore the location data so as not to risk adding noise - however, if there was a robust way to clean the location data I would consider adding it back in.  There are certainly some locations which are more disaster prone than others (e.g. California).\n",
        "\n",
        "Below: an example each of a relevant location and an irrelevant location."
      ],
      "metadata": {
        "id": "hIFwOj-_HR-K"
      }
    },
    {
      "cell_type": "code",
      "source": [
        "print([x for x in df['location'] if x is not None][555])\n",
        "print('\\n')\n",
        "print([x for x in df['location'] if x is not None][306])\n"
      ],
      "metadata": {
        "colab": {
          "base_uri": "https://localhost:8080/"
        },
        "id": "oSd---BLHWaw",
        "outputId": "1602d12d-9b82-4207-ddeb-577dbb2c1335"
      },
      "execution_count": 120,
      "outputs": [
        {
          "output_type": "stream",
          "name": "stdout",
          "text": [
            "San Jose, CA\n",
            "\n",
            "\n",
            "#FLIGHTCITY UK  \n"
          ]
        }
      ]
    },
    {
      "cell_type": "markdown",
      "source": [
        "# EDA - Keywords\n",
        "\n",
        "Keywords, on the other hand, are much more relevant to diving the class of the tweet.  Many are indicative of the tweet's content.\n",
        "\n",
        "However, they require cleaning - we have a lot of NaN values and url-encoded values."
      ],
      "metadata": {
        "id": "9w7Qe6KyJBUj"
      }
    },
    {
      "cell_type": "code",
      "source": [
        "# nan values\n",
        "print([x for x in df['keyword'] if x is not None][0:5], '\\n')\n",
        "\n",
        "# url-encoded values\n",
        "print([x for x in df['keyword'] if x is not None][150:155], '\\n')\n",
        "\n",
        "# the body of one of the tweets referenced above\n",
        "print(df['text'][151])"
      ],
      "metadata": {
        "colab": {
          "base_uri": "https://localhost:8080/"
        },
        "id": "3q3G5YTI5Ebb",
        "outputId": "f4296c61-fea2-4242-9859-25faef64a527"
      },
      "execution_count": 121,
      "outputs": [
        {
          "output_type": "stream",
          "name": "stdout",
          "text": [
            "[nan, nan, nan, nan, nan] \n",
            "\n",
            "['airplane%20accident', 'airplane%20accident', 'airplane%20accident', 'airplane%20accident', 'airplane%20accident'] \n",
            "\n",
            "Experts in France begin examining airplane debris found on Reunion Island: French air accident experts on... http://t.co/TagZbcXFj0 #MLB\n"
          ]
        }
      ]
    },
    {
      "cell_type": "markdown",
      "source": [
        "# EDA - Cleaning Keywords\n",
        "\n",
        "It's fairly easy for us to clean these keywords, we just have to undo their encoding and additionally remove NaN values."
      ],
      "metadata": {
        "id": "uyorXZ5uJp3M"
      }
    },
    {
      "cell_type": "code",
      "source": [
        "from urllib.parse import unquote\n",
        "\n",
        "df['cleaned_keyword'] = df['keyword'].fillna('').apply(unquote)\n",
        "\n",
        "# the cleaned values from before\n",
        "print([x for x in df['cleaned_keyword'] if x is not None][0:5])\n",
        "print([x for x in df['cleaned_keyword'] if x is not None][150:155])"
      ],
      "metadata": {
        "colab": {
          "base_uri": "https://localhost:8080/"
        },
        "id": "Jdg9WBxN9Dev",
        "outputId": "ef347379-0d41-4b2c-8664-7e74d8b855c5"
      },
      "execution_count": 122,
      "outputs": [
        {
          "output_type": "stream",
          "name": "stdout",
          "text": [
            "['', '', '', '', '']\n",
            "['airplane accident', 'airplane accident', 'airplane accident', 'airplane accident', 'airplane accident']\n"
          ]
        }
      ]
    },
    {
      "cell_type": "markdown",
      "source": [
        "# EDA - Merging Keywords with Text\n",
        "\n",
        "One simple way for us to use these keywords is to just concatenate them with our Tweet text.  This way, they can be considered by the model."
      ],
      "metadata": {
        "id": "sbxrK5wOJx6v"
      }
    },
    {
      "cell_type": "code",
      "source": [
        "df['combined_text'] = df['cleaned_keyword'] + df['text']"
      ],
      "metadata": {
        "id": "44ftALjR9aiK"
      },
      "execution_count": 123,
      "outputs": []
    },
    {
      "cell_type": "markdown",
      "source": [
        "# More imports\n",
        "\n",
        "Model related imports."
      ],
      "metadata": {
        "id": "H60os2VRJ9d8"
      }
    },
    {
      "cell_type": "code",
      "source": [
        "import numpy as np\n",
        "import pandas as pd\n",
        "import tensorflow as tf\n",
        "from tensorflow import keras\n",
        "from tensorflow.keras.preprocessing.text import Tokenizer\n",
        "from tensorflow.keras.preprocessing.sequence import pad_sequences\n",
        "from sklearn.model_selection import train_test_split\n",
        "from sklearn.metrics import accuracy_score\n"
      ],
      "metadata": {
        "id": "NmnOpbv99n2e"
      },
      "execution_count": 124,
      "outputs": []
    },
    {
      "cell_type": "markdown",
      "source": [
        "# Train/test split\n",
        "\n",
        "Here, we perform our train/test split.  Note that use our new \"combined_text\" field as our X input."
      ],
      "metadata": {
        "id": "7wwyYHN9KIjt"
      }
    },
    {
      "cell_type": "code",
      "source": [
        "tweets = df['combined_text'].values\n",
        "labels = df['target'].values\n",
        "\n",
        "X_train, X_val, y_train, y_val = train_test_split(tweets, labels, test_size=0.2, random_state=42)\n"
      ],
      "metadata": {
        "id": "WUIp1yTv9tzL"
      },
      "execution_count": 136,
      "outputs": []
    },
    {
      "cell_type": "markdown",
      "source": [
        "# Define evaluation function\n",
        "\n",
        "Since this competition evaluates based on F1 score, we write a quick function to use to evaluate our models."
      ],
      "metadata": {
        "id": "UCc80Z8qKSRJ"
      }
    },
    {
      "cell_type": "code",
      "source": [
        "from sklearn.metrics import f1_score\n",
        "from sklearn.metrics import classification_report\n",
        "\n",
        "def get_f1(y_pred):\n",
        "  f1 = f1_score(y_val, y_pred)\n",
        "  return f1"
      ],
      "metadata": {
        "id": "GOeLEO_WGXXk"
      },
      "execution_count": 137,
      "outputs": []
    },
    {
      "cell_type": "markdown",
      "source": [
        "# Perform our TF-IDF vectorization\n",
        "\n",
        "Here, we use TF-IDF to encode our text data into vectors so that the model can process them.\n",
        "\n",
        "TF-IDF stands for Term Frequency - Inverse Document Frequency.  \n",
        "\n",
        "Term frequency refers to how frequently a word occurs in a document (in this case, a Tweet).  \n",
        "\n",
        "IDF refers to how infrequently a word occurs in all documents i.e. how rare the word is.  If a word is uncommon, its IDF score will be higher.\n",
        "\n",
        "TF-IDF is used over simpler word encoding approaches as it is better at taking into consideration the value of words, boosting the importance of words that appear to be more relevant to deriving semantic meaning, and lessening the importance of words that appear to contribute less to meaning.\n"
      ],
      "metadata": {
        "id": "VJjYCtXuKZc8"
      }
    },
    {
      "cell_type": "code",
      "source": [
        "from sklearn.feature_extraction.text import TfidfVectorizer\n",
        "from tensorflow.keras.models import Sequential\n",
        "from tensorflow.keras.layers import Dense, Dropout\n",
        "from tensorflow.keras.callbacks import LearningRateScheduler\n",
        "import matplotlib.pyplot as plt\n",
        "\n",
        "tf.random.set_seed(42)\n",
        "\n",
        "# max_features is set to 2500 as that seems to work best for our model\n",
        "tfidf_vectorizer = TfidfVectorizer(max_features=2500)\n",
        "\n",
        "# here, we fit the vectorizer to our training data\n",
        "X_train_tfidf = tfidf_vectorizer.fit_transform(X_train).toarray()\n",
        "# then we transform our validation data using the already fit vectorizer\n",
        "X_val_tfidf = tfidf_vectorizer.transform(X_val).toarray()"
      ],
      "metadata": {
        "id": "j67vPqpC_zas"
      },
      "execution_count": 138,
      "outputs": []
    },
    {
      "cell_type": "markdown",
      "source": [
        "# Defining our Deep Learning model\n",
        "\n",
        "We create this function to easily instantiate models as we plan to test several during our hyperparameter tuning.\n",
        "\n",
        "For our architecture, we use a Dense model that performs well on these kinds of tasks.  The structure is fairly simple - just two dense layers, one with 512 neurons and a second with 256 neurons to help extract further patterns.\n",
        "\n",
        "Each layer has some dropout in between to mitigate overfitting and then we finish with an output layer to get our classification."
      ],
      "metadata": {
        "id": "M8x0LxpNMD34"
      }
    },
    {
      "cell_type": "code",
      "source": [
        "from tensorflow.keras.optimizers import Adam\n",
        "\n",
        "def get_model(learning_rate=0.001):\n",
        "  model = Sequential([\n",
        "      Dense(512, activation='relu', input_shape=(X_train_tfidf.shape[1],)),\n",
        "      Dropout(0.3),\n",
        "      Dense(256, activation='relu'),\n",
        "      Dropout(0.3),\n",
        "      Dense(1, activation='sigmoid')\n",
        "  ])\n",
        "\n",
        "  optimizer = Adam(learning_rate=learning_rate)\n",
        "\n",
        "  model.compile(optimizer=optimizer, loss='binary_crossentropy', metrics=['accuracy'])\n",
        "  return model"
      ],
      "metadata": {
        "id": "mdb_O9Ie95Sd"
      },
      "execution_count": 139,
      "outputs": []
    },
    {
      "cell_type": "markdown",
      "source": [
        "# Fit Our Initial Model\n",
        "\n",
        "Here, we fit our first model.  \n",
        "\n",
        "We also set up a Learning Rate Scheduler to help us optimize our learning rate for future iterations.\n"
      ],
      "metadata": {
        "id": "Jbujh4RmQLQV"
      }
    },
    {
      "cell_type": "code",
      "source": [
        "model = get_model()\n",
        "\n",
        "# the default rate is 0.001, so we try a few on either side\n",
        "lrs = [0.0001, 0.0005, 0.001, 0.0015, 0.002]\n",
        "\n",
        "\n",
        "def lr_schedule(epoch, lr):\n",
        "    return lrs[epoch]\n",
        "\n",
        "history = model.fit(\n",
        "    X_train_tfidf, y_train,\n",
        "    validation_data=(X_val_tfidf, y_val),\n",
        "    epochs=5,\n",
        "    batch_size=10,\n",
        "    verbose=1,\n",
        "    callbacks=[LearningRateScheduler(lr_schedule)],\n",
        ")\n"
      ],
      "metadata": {
        "colab": {
          "base_uri": "https://localhost:8080/"
        },
        "id": "6ACZp6Iw9_tY",
        "outputId": "f32ac383-6222-4862-9552-9d41d84b828a"
      },
      "execution_count": 140,
      "outputs": [
        {
          "output_type": "stream",
          "name": "stderr",
          "text": [
            "/usr/local/lib/python3.11/dist-packages/keras/src/layers/core/dense.py:87: UserWarning: Do not pass an `input_shape`/`input_dim` argument to a layer. When using Sequential models, prefer using an `Input(shape)` object as the first layer in the model instead.\n",
            "  super().__init__(activity_regularizer=activity_regularizer, **kwargs)\n"
          ]
        },
        {
          "output_type": "stream",
          "name": "stdout",
          "text": [
            "Epoch 1/5\n",
            "\u001b[1m609/609\u001b[0m \u001b[32m━━━━━━━━━━━━━━━━━━━━\u001b[0m\u001b[37m\u001b[0m \u001b[1m4s\u001b[0m 4ms/step - accuracy: 0.5662 - loss: 0.6777 - val_accuracy: 0.7190 - val_loss: 0.5828 - learning_rate: 1.0000e-04\n",
            "Epoch 2/5\n",
            "\u001b[1m609/609\u001b[0m \u001b[32m━━━━━━━━━━━━━━━━━━━━\u001b[0m\u001b[37m\u001b[0m \u001b[1m4s\u001b[0m 3ms/step - accuracy: 0.7831 - loss: 0.4860 - val_accuracy: 0.8030 - val_loss: 0.4552 - learning_rate: 5.0000e-04\n",
            "Epoch 3/5\n",
            "\u001b[1m609/609\u001b[0m \u001b[32m━━━━━━━━━━━━━━━━━━━━\u001b[0m\u001b[37m\u001b[0m \u001b[1m2s\u001b[0m 3ms/step - accuracy: 0.8546 - loss: 0.3385 - val_accuracy: 0.7905 - val_loss: 0.5145 - learning_rate: 0.0010\n",
            "Epoch 4/5\n",
            "\u001b[1m609/609\u001b[0m \u001b[32m━━━━━━━━━━━━━━━━━━━━\u001b[0m\u001b[37m\u001b[0m \u001b[1m3s\u001b[0m 4ms/step - accuracy: 0.9058 - loss: 0.2364 - val_accuracy: 0.7774 - val_loss: 0.6355 - learning_rate: 0.0015\n",
            "Epoch 5/5\n",
            "\u001b[1m609/609\u001b[0m \u001b[32m━━━━━━━━━━━━━━━━━━━━\u001b[0m\u001b[37m\u001b[0m \u001b[1m2s\u001b[0m 3ms/step - accuracy: 0.9390 - loss: 0.1568 - val_accuracy: 0.7603 - val_loss: 0.9049 - learning_rate: 0.0020\n"
          ]
        }
      ]
    },
    {
      "cell_type": "markdown",
      "source": [
        "# Hyperparameter Tuning - Finding our Optimal Learning Rate\n",
        "\n",
        "One hyperparameter that is critical for tuning is learning rate.  Too high, and we will not get a smooth convergence or an optimal output.  Too low, and the model will train slowly and may never converge.  So this is very important!\n",
        "\n",
        "The optimal LR is found where loss decreases the most.  As we can see here, that would imply that 0.0001 (1/10th of default) is the optimal LR for our model."
      ],
      "metadata": {
        "id": "Y4IRSPhSQi4l"
      }
    },
    {
      "cell_type": "code",
      "source": [
        "# finding optimal learning rate\n",
        "plt.plot(range(len(lrs)), history.history['loss'], marker='o')\n",
        "plt.xticks(ticks=range(len(lrs)), labels=[f\"{lr:.4f}\" for lr in lrs])\n",
        "plt.xlabel('Learning Rate')\n",
        "plt.ylabel('Loss')\n",
        "plt.title('Learning Rate Finder')\n",
        "plt.show()"
      ],
      "metadata": {
        "colab": {
          "base_uri": "https://localhost:8080/",
          "height": 472
        },
        "id": "oOmdQ_yz-CEJ",
        "outputId": "06aa5a5e-e501-487e-a0ca-244edf0c2302"
      },
      "execution_count": 141,
      "outputs": [
        {
          "output_type": "display_data",
          "data": {
            "text/plain": [
              "<Figure size 640x480 with 1 Axes>"
            ],
            "image/png": "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\n"
          },
          "metadata": {}
        }
      ]
    },
    {
      "cell_type": "markdown",
      "source": [
        "# Evaluating our F1 score\n",
        "\n",
        "Here, we evaluate our initial F1 score - not bad, but we can improve."
      ],
      "metadata": {
        "id": "c6B6osqHRB1Z"
      }
    },
    {
      "cell_type": "code",
      "source": [
        "y_pred_tfidf = model.predict(X_val_tfidf)\n",
        "y_pred_tfidf = (y_pred_tfidf >= 0.5).astype(int)\n",
        "# get f1 score\n",
        "get_f1(y_pred_tfidf)"
      ],
      "metadata": {
        "colab": {
          "base_uri": "https://localhost:8080/"
        },
        "id": "QrBO2W_d-C19",
        "outputId": "21bde195-c486-4909-84ef-46ffd9069a2d"
      },
      "execution_count": 142,
      "outputs": [
        {
          "output_type": "stream",
          "name": "stdout",
          "text": [
            "\u001b[1m48/48\u001b[0m \u001b[32m━━━━━━━━━━━━━━━━━━━━\u001b[0m\u001b[37m\u001b[0m \u001b[1m0s\u001b[0m 6ms/step\n"
          ]
        },
        {
          "output_type": "execute_result",
          "data": {
            "text/plain": [
              "0.6898895497026338"
            ]
          },
          "metadata": {},
          "execution_count": 142
        }
      ]
    },
    {
      "cell_type": "markdown",
      "source": [
        "# Hyperparameter Tuning - Batch Size\n",
        "\n",
        "Another important parameter to tune is batch size, as that can significantly affect model performance.  \n",
        "\n",
        "We iterate over several batch sizes to see their effect on performance.\n",
        "\n",
        "We also update our model to our optimized learning rate."
      ],
      "metadata": {
        "id": "UBScSB2bRHP1"
      }
    },
    {
      "cell_type": "code",
      "source": [
        "\n",
        "test_batch_sizes = [5, 10, 20, 40, 60]\n",
        "\n",
        "results = {}\n",
        "\n",
        "for batch_size in test_batch_sizes:\n",
        "  # set our optimal learning rate\n",
        "  model = get_model(0.0001)\n",
        "\n",
        "  model.fit(\n",
        "      X_train_tfidf, y_train,\n",
        "      validation_data=(X_val_tfidf, y_val),\n",
        "      epochs=5,\n",
        "      batch_size=batch_size,\n",
        "      verbose=1\n",
        "  )\n",
        "\n",
        "  y_pred = model.predict(X_val_tfidf)\n",
        "  y_pred = (y_pred >= 0.5).astype(int)\n",
        "  # store results and model for later\n",
        "  results[batch_size] = [get_f1(y_pred), model]\n",
        "  print(results)\n"
      ],
      "metadata": {
        "colab": {
          "base_uri": "https://localhost:8080/"
        },
        "id": "XQEKcr5nGvDM",
        "outputId": "192e31eb-9b01-4cae-b72d-a92cadefb0bf"
      },
      "execution_count": 143,
      "outputs": [
        {
          "output_type": "stream",
          "name": "stderr",
          "text": [
            "/usr/local/lib/python3.11/dist-packages/keras/src/layers/core/dense.py:87: UserWarning: Do not pass an `input_shape`/`input_dim` argument to a layer. When using Sequential models, prefer using an `Input(shape)` object as the first layer in the model instead.\n",
            "  super().__init__(activity_regularizer=activity_regularizer, **kwargs)\n"
          ]
        },
        {
          "output_type": "stream",
          "name": "stdout",
          "text": [
            "Epoch 1/5\n",
            "\u001b[1m1218/1218\u001b[0m \u001b[32m━━━━━━━━━━━━━━━━━━━━\u001b[0m\u001b[37m\u001b[0m \u001b[1m6s\u001b[0m 3ms/step - accuracy: 0.5837 - loss: 0.6672 - val_accuracy: 0.7787 - val_loss: 0.5053\n",
            "Epoch 2/5\n",
            "\u001b[1m1218/1218\u001b[0m \u001b[32m━━━━━━━━━━━━━━━━━━━━\u001b[0m\u001b[37m\u001b[0m \u001b[1m4s\u001b[0m 3ms/step - accuracy: 0.8058 - loss: 0.4494 - val_accuracy: 0.8056 - val_loss: 0.4637\n",
            "Epoch 3/5\n",
            "\u001b[1m1218/1218\u001b[0m \u001b[32m━━━━━━━━━━━━━━━━━━━━\u001b[0m\u001b[37m\u001b[0m \u001b[1m5s\u001b[0m 3ms/step - accuracy: 0.8516 - loss: 0.3480 - val_accuracy: 0.8030 - val_loss: 0.4774\n",
            "Epoch 4/5\n",
            "\u001b[1m1218/1218\u001b[0m \u001b[32m━━━━━━━━━━━━━━━━━━━━\u001b[0m\u001b[37m\u001b[0m \u001b[1m3s\u001b[0m 3ms/step - accuracy: 0.8829 - loss: 0.2881 - val_accuracy: 0.7991 - val_loss: 0.5068\n",
            "Epoch 5/5\n",
            "\u001b[1m1218/1218\u001b[0m \u001b[32m━━━━━━━━━━━━━━━━━━━━\u001b[0m\u001b[37m\u001b[0m \u001b[1m7s\u001b[0m 4ms/step - accuracy: 0.9035 - loss: 0.2421 - val_accuracy: 0.7846 - val_loss: 0.5457\n",
            "\u001b[1m48/48\u001b[0m \u001b[32m━━━━━━━━━━━━━━━━━━━━\u001b[0m\u001b[37m\u001b[0m \u001b[1m0s\u001b[0m 4ms/step\n",
            "{5: [0.732463295269168, <Sequential name=sequential_24, built=True>]}\n"
          ]
        },
        {
          "output_type": "stream",
          "name": "stderr",
          "text": [
            "/usr/local/lib/python3.11/dist-packages/keras/src/layers/core/dense.py:87: UserWarning: Do not pass an `input_shape`/`input_dim` argument to a layer. When using Sequential models, prefer using an `Input(shape)` object as the first layer in the model instead.\n",
            "  super().__init__(activity_regularizer=activity_regularizer, **kwargs)\n"
          ]
        },
        {
          "output_type": "stream",
          "name": "stdout",
          "text": [
            "Epoch 1/5\n",
            "\u001b[1m609/609\u001b[0m \u001b[32m━━━━━━━━━━━━━━━━━━━━\u001b[0m\u001b[37m\u001b[0m \u001b[1m4s\u001b[0m 4ms/step - accuracy: 0.5574 - loss: 0.6795 - val_accuracy: 0.7242 - val_loss: 0.5821\n",
            "Epoch 2/5\n",
            "\u001b[1m609/609\u001b[0m \u001b[32m━━━━━━━━━━━━━━━━━━━━\u001b[0m\u001b[37m\u001b[0m \u001b[1m2s\u001b[0m 3ms/step - accuracy: 0.7778 - loss: 0.5161 - val_accuracy: 0.7991 - val_loss: 0.4650\n",
            "Epoch 3/5\n",
            "\u001b[1m609/609\u001b[0m \u001b[32m━━━━━━━━━━━━━━━━━━━━\u001b[0m\u001b[37m\u001b[0m \u001b[1m2s\u001b[0m 3ms/step - accuracy: 0.8409 - loss: 0.3715 - val_accuracy: 0.8083 - val_loss: 0.4642\n",
            "Epoch 4/5\n",
            "\u001b[1m609/609\u001b[0m \u001b[32m━━━━━━━━━━━━━━━━━━━━\u001b[0m\u001b[37m\u001b[0m \u001b[1m3s\u001b[0m 4ms/step - accuracy: 0.8707 - loss: 0.3129 - val_accuracy: 0.8056 - val_loss: 0.4805\n",
            "Epoch 5/5\n",
            "\u001b[1m609/609\u001b[0m \u001b[32m━━━━━━━━━━━━━━━━━━━━\u001b[0m\u001b[37m\u001b[0m \u001b[1m4s\u001b[0m 3ms/step - accuracy: 0.8945 - loss: 0.2666 - val_accuracy: 0.7971 - val_loss: 0.5049\n",
            "\u001b[1m48/48\u001b[0m \u001b[32m━━━━━━━━━━━━━━━━━━━━\u001b[0m\u001b[37m\u001b[0m \u001b[1m0s\u001b[0m 4ms/step\n",
            "{5: [0.732463295269168, <Sequential name=sequential_24, built=True>], 10: [0.7481662591687042, <Sequential name=sequential_25, built=True>]}\n"
          ]
        },
        {
          "output_type": "stream",
          "name": "stderr",
          "text": [
            "/usr/local/lib/python3.11/dist-packages/keras/src/layers/core/dense.py:87: UserWarning: Do not pass an `input_shape`/`input_dim` argument to a layer. When using Sequential models, prefer using an `Input(shape)` object as the first layer in the model instead.\n",
            "  super().__init__(activity_regularizer=activity_regularizer, **kwargs)\n"
          ]
        },
        {
          "output_type": "stream",
          "name": "stdout",
          "text": [
            "Epoch 1/5\n",
            "\u001b[1m305/305\u001b[0m \u001b[32m━━━━━━━━━━━━━━━━━━━━\u001b[0m\u001b[37m\u001b[0m \u001b[1m5s\u001b[0m 9ms/step - accuracy: 0.5698 - loss: 0.6834 - val_accuracy: 0.5883 - val_loss: 0.6392\n",
            "Epoch 2/5\n",
            "\u001b[1m305/305\u001b[0m \u001b[32m━━━━━━━━━━━━━━━━━━━━\u001b[0m\u001b[37m\u001b[0m \u001b[1m3s\u001b[0m 5ms/step - accuracy: 0.6735 - loss: 0.5998 - val_accuracy: 0.7938 - val_loss: 0.4940\n",
            "Epoch 3/5\n",
            "\u001b[1m305/305\u001b[0m \u001b[32m━━━━━━━━━━━━━━━━━━━━\u001b[0m\u001b[37m\u001b[0m \u001b[1m2s\u001b[0m 4ms/step - accuracy: 0.8218 - loss: 0.4294 - val_accuracy: 0.8089 - val_loss: 0.4604\n",
            "Epoch 4/5\n",
            "\u001b[1m305/305\u001b[0m \u001b[32m━━━━━━━━━━━━━━━━━━━━\u001b[0m\u001b[37m\u001b[0m \u001b[1m2s\u001b[0m 4ms/step - accuracy: 0.8544 - loss: 0.3507 - val_accuracy: 0.8083 - val_loss: 0.4639\n",
            "Epoch 5/5\n",
            "\u001b[1m305/305\u001b[0m \u001b[32m━━━━━━━━━━━━━━━━━━━━\u001b[0m\u001b[37m\u001b[0m \u001b[1m1s\u001b[0m 3ms/step - accuracy: 0.8725 - loss: 0.3009 - val_accuracy: 0.8024 - val_loss: 0.4784\n",
            "\u001b[1m48/48\u001b[0m \u001b[32m━━━━━━━━━━━━━━━━━━━━\u001b[0m\u001b[37m\u001b[0m \u001b[1m0s\u001b[0m 4ms/step\n",
            "{5: [0.732463295269168, <Sequential name=sequential_24, built=True>], 10: [0.7481662591687042, <Sequential name=sequential_25, built=True>], 20: [0.7562753036437248, <Sequential name=sequential_26, built=True>]}\n"
          ]
        },
        {
          "output_type": "stream",
          "name": "stderr",
          "text": [
            "/usr/local/lib/python3.11/dist-packages/keras/src/layers/core/dense.py:87: UserWarning: Do not pass an `input_shape`/`input_dim` argument to a layer. When using Sequential models, prefer using an `Input(shape)` object as the first layer in the model instead.\n",
            "  super().__init__(activity_regularizer=activity_regularizer, **kwargs)\n"
          ]
        },
        {
          "output_type": "stream",
          "name": "stdout",
          "text": [
            "Epoch 1/5\n",
            "\u001b[1m153/153\u001b[0m \u001b[32m━━━━━━━━━━━━━━━━━━━━\u001b[0m\u001b[37m\u001b[0m \u001b[1m5s\u001b[0m 17ms/step - accuracy: 0.5451 - loss: 0.6870 - val_accuracy: 0.5739 - val_loss: 0.6608\n",
            "Epoch 2/5\n",
            "\u001b[1m153/153\u001b[0m \u001b[32m━━━━━━━━━━━━━━━━━━━━\u001b[0m\u001b[37m\u001b[0m \u001b[1m1s\u001b[0m 7ms/step - accuracy: 0.5921 - loss: 0.6447 - val_accuracy: 0.7446 - val_loss: 0.5737\n",
            "Epoch 3/5\n",
            "\u001b[1m153/153\u001b[0m \u001b[32m━━━━━━━━━━━━━━━━━━━━\u001b[0m\u001b[37m\u001b[0m \u001b[1m1s\u001b[0m 4ms/step - accuracy: 0.7892 - loss: 0.5211 - val_accuracy: 0.7971 - val_loss: 0.4791\n",
            "Epoch 4/5\n",
            "\u001b[1m153/153\u001b[0m \u001b[32m━━━━━━━━━━━━━━━━━━━━\u001b[0m\u001b[37m\u001b[0m \u001b[1m1s\u001b[0m 4ms/step - accuracy: 0.8350 - loss: 0.4038 - val_accuracy: 0.8043 - val_loss: 0.4601\n",
            "Epoch 5/5\n",
            "\u001b[1m153/153\u001b[0m \u001b[32m━━━━━━━━━━━━━━━━━━━━\u001b[0m\u001b[37m\u001b[0m \u001b[1m1s\u001b[0m 4ms/step - accuracy: 0.8563 - loss: 0.3470 - val_accuracy: 0.8070 - val_loss: 0.4622\n",
            "\u001b[1m48/48\u001b[0m \u001b[32m━━━━━━━━━━━━━━━━━━━━\u001b[0m\u001b[37m\u001b[0m \u001b[1m0s\u001b[0m 4ms/step\n",
            "{5: [0.732463295269168, <Sequential name=sequential_24, built=True>], 10: [0.7481662591687042, <Sequential name=sequential_25, built=True>], 20: [0.7562753036437248, <Sequential name=sequential_26, built=True>], 40: [0.7566225165562914, <Sequential name=sequential_27, built=True>]}\n"
          ]
        },
        {
          "output_type": "stream",
          "name": "stderr",
          "text": [
            "/usr/local/lib/python3.11/dist-packages/keras/src/layers/core/dense.py:87: UserWarning: Do not pass an `input_shape`/`input_dim` argument to a layer. When using Sequential models, prefer using an `Input(shape)` object as the first layer in the model instead.\n",
            "  super().__init__(activity_regularizer=activity_regularizer, **kwargs)\n"
          ]
        },
        {
          "output_type": "stream",
          "name": "stdout",
          "text": [
            "Epoch 1/5\n",
            "\u001b[1m102/102\u001b[0m \u001b[32m━━━━━━━━━━━━━━━━━━━━\u001b[0m\u001b[37m\u001b[0m \u001b[1m5s\u001b[0m 21ms/step - accuracy: 0.5399 - loss: 0.6892 - val_accuracy: 0.5739 - val_loss: 0.6704\n",
            "Epoch 2/5\n",
            "\u001b[1m102/102\u001b[0m \u001b[32m━━━━━━━━━━━━━━━━━━━━\u001b[0m\u001b[37m\u001b[0m \u001b[1m2s\u001b[0m 4ms/step - accuracy: 0.5695 - loss: 0.6618 - val_accuracy: 0.6356 - val_loss: 0.6233\n",
            "Epoch 3/5\n",
            "\u001b[1m102/102\u001b[0m \u001b[32m━━━━━━━━━━━━━━━━━━━━\u001b[0m\u001b[37m\u001b[0m \u001b[1m1s\u001b[0m 5ms/step - accuracy: 0.7074 - loss: 0.5917 - val_accuracy: 0.7807 - val_loss: 0.5248\n",
            "Epoch 4/5\n",
            "\u001b[1m102/102\u001b[0m \u001b[32m━━━━━━━━━━━━━━━━━━━━\u001b[0m\u001b[37m\u001b[0m \u001b[1m1s\u001b[0m 6ms/step - accuracy: 0.8110 - loss: 0.4671 - val_accuracy: 0.7978 - val_loss: 0.4720\n",
            "Epoch 5/5\n",
            "\u001b[1m102/102\u001b[0m \u001b[32m━━━━━━━━━━━━━━━━━━━━\u001b[0m\u001b[37m\u001b[0m \u001b[1m1s\u001b[0m 5ms/step - accuracy: 0.8441 - loss: 0.3869 - val_accuracy: 0.8043 - val_loss: 0.4611\n",
            "\u001b[1m48/48\u001b[0m \u001b[32m━━━━━━━━━━━━━━━━━━━━\u001b[0m\u001b[37m\u001b[0m \u001b[1m0s\u001b[0m 6ms/step\n",
            "{5: [0.732463295269168, <Sequential name=sequential_24, built=True>], 10: [0.7481662591687042, <Sequential name=sequential_25, built=True>], 20: [0.7562753036437248, <Sequential name=sequential_26, built=True>], 40: [0.7566225165562914, <Sequential name=sequential_27, built=True>], 60: [0.7512520868113522, <Sequential name=sequential_28, built=True>]}\n"
          ]
        }
      ]
    },
    {
      "cell_type": "markdown",
      "source": [
        "# Plot Batch Size results\n",
        "\n",
        "Below, we plot our batch sizes compared to their F1 score output.\n",
        "\n",
        "Our optimal batch size is somewhere in the middle of what we tested."
      ],
      "metadata": {
        "id": "OxjRdXUZRWjc"
      }
    },
    {
      "cell_type": "code",
      "source": [
        "\n",
        "batch_sizes = list(results.keys())\n",
        "f1_scores = [x[0] for x in results.values()]\n",
        "\n",
        "plt.figure(figsize=(8, 5))\n",
        "plt.plot(batch_sizes, f1_scores, marker='o', linestyle='-', color='b')\n",
        "\n",
        "plt.xlabel(\"Batch Size\")\n",
        "plt.ylabel(\"F1 Score\")\n",
        "plt.title(\"F1 Score vs. Batch Size\")\n",
        "\n",
        "for i, txt in enumerate(f1_scores):\n",
        "    plt.annotate(f\"{txt:.6f}\", (batch_sizes[i], f1_scores[i]), textcoords=\"offset points\", xytext=(0,5), ha='center')\n",
        "\n",
        "plt.grid(True)\n",
        "plt.show()\n"
      ],
      "metadata": {
        "colab": {
          "base_uri": "https://localhost:8080/",
          "height": 487
        },
        "id": "QL9JdOqG-ahE",
        "outputId": "d80acaa9-767f-492d-95ad-7ec71572f616"
      },
      "execution_count": 144,
      "outputs": [
        {
          "output_type": "display_data",
          "data": {
            "text/plain": [
              "<Figure size 800x500 with 1 Axes>"
            ],
            "image/png": "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\n"
          },
          "metadata": {}
        }
      ]
    },
    {
      "cell_type": "markdown",
      "source": [
        "# Predicting on Test Data For Competition\n",
        "\n",
        "We've found our optimal hyperparameters and have access to that model in our *results* tracker, so now we predict on the test data using our best performing model, and we save that data to a CSV to submit to Kaggle!"
      ],
      "metadata": {
        "id": "t7EXl0ZoRisT"
      }
    },
    {
      "cell_type": "code",
      "source": [
        "# Predict on our Test Data\n",
        "\n",
        "file_path = \"/content/drive/My Drive/disaster-tweets/test.csv\"\n",
        "test_df = pd.read_csv(file_path)\n",
        "\n",
        "# perform the EDA from earlier on the test dataFrame\n",
        "test_df['cleaned_keyword'] = test_df['keyword'].fillna('').apply(unquote)\n",
        "test_df['combined_text'] = test_df['cleaned_keyword'] + test_df['text']\n",
        "\n",
        "# use the vectorizer from earlier to transform our data\n",
        "X_test_tfidf = tfidf_vectorizer.transform(test_df['combined_text']).toarray()\n",
        "\n",
        "# select the best performing model - in this case, it was with batch size=40\n",
        "best_model = results[40][1]\n",
        "\n",
        "# predict\n",
        "y_pred = model.predict(X_test_tfidf)\n",
        "y_pred = (y_pred >= 0.5).astype(int)\n",
        "\n",
        "submission = pd.DataFrame({\n",
        "    'id': test_df['id'],\n",
        "    'target': y_pred.flatten()\n",
        "})\n",
        "\n",
        "# save results\n",
        "submission.to_csv('submission.csv', index=False)\n"
      ],
      "metadata": {
        "colab": {
          "base_uri": "https://localhost:8080/"
        },
        "id": "GGZHCVVmAsnZ",
        "outputId": "d91eca4d-50ee-457a-d5e7-a0d04d84d731"
      },
      "execution_count": 145,
      "outputs": [
        {
          "output_type": "stream",
          "name": "stdout",
          "text": [
            "\u001b[1m102/102\u001b[0m \u001b[32m━━━━━━━━━━━━━━━━━━━━\u001b[0m\u001b[37m\u001b[0m \u001b[1m0s\u001b[0m 3ms/step\n"
          ]
        }
      ]
    },
    {
      "cell_type": "markdown",
      "source": [
        "# Conclusions\n",
        "\n",
        "\n",
        "Our model performed OK compared to others in the competition, we were a little over halfway down the leaderboard.  Considering the simplicity of our model, I think that is an acceptable result.\n",
        "\n",
        "Our hyperparameter tuning went about as expected, with our optimal batch size being a predictable number.  There are further parameters we could have tuned, such as some of the vectorizer inputs (like max_features).  I did some cursory testing on this when writing the notebook but not as in-depth as our other parameter testing.\n",
        "\n",
        "I think it's possible that the other columns in our trainin data (keyword/location) could have been incorporated better.  For keyword, we basically just concatenated those to our text.  I've read about some more complex ways to incorporate this data.  \n",
        "\n",
        "We also ignored our location data entirely but I'm fairly sure that if I could have found a way to clean these values or otherwise incorporate them without adding noise, that they could have been a valuable addition to the model.\n",
        "\n",
        "# Github Link:\n",
        "\n",
        "https://github.com/unit4216/disaster-tweets"
      ],
      "metadata": {
        "id": "VsWGl_EeAKAJ"
      }
    }
  ]
}
